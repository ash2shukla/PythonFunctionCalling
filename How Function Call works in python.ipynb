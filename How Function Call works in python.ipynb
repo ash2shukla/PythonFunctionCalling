{
 "cells": [
  {
   "cell_type": "markdown",
   "metadata": {},
   "source": [
    "# How Function Calls Work in Python\n",
    "\n",
    "<hr/>\n",
    "* ### Function Definition in Python\n",
    "\n",
    ">A typical function definition in python looks like this-\n",
    "\n",
    ">>```def function_name(function_arguments):```\n",
    "\n",
    "<hr/>\n",
    "\n",
    "* ### Types of arguments\n",
    "\n",
    ">There are two types of arguments when calling a function, 1. Actual, 2. Formal.\n",
    "\n",
    ">Actual Parameters are the ones <b>passed</b> by the <b>Calling Function</b> and <br/>\n",
    ">Formal Parameters are the ones <b>received</b> by the <b>Called Function</b>\n",
    "\n",
    "<hr/>\n",
    "\n",
    "* ### Types of function calling\n",
    "\n",
    "> #### Call by value\n",
    "\n",
    ">>In call by value the formal arguments are a copy of actual arguments. i.e. not the actual arguments themselves.\n",
    "\n",
    "> #### Call by reference\n",
    "\n",
    ">>In call by reference the actual arguments and formal arguments are same.\n",
    "\n",
    "* ### Calling functions in python\n"
   ]
  },
  {
   "cell_type": "code",
   "execution_count": 11,
   "metadata": {},
   "outputs": [
    {
     "name": "stdout",
     "output_type": "stream",
     "text": [
      "Actual Argument is  [1, 2, 3]\n",
      "Formal argument is  [1, 2, 3]\n",
      "Changed Formal argument is  [1, 2, 3, 4]\n",
      "Again Changed Formal argument is  [5, 6, 7]\n",
      "Actual Argument After calling is  [1, 2, 3, 4]\n"
     ]
    }
   ],
   "source": [
    "def called_function(formal_argument):\n",
    "    print('Formal argument is ',formal_argument)\n",
    "    formal_argument.append(4)\n",
    "    print('Changed Formal argument is ',formal_argument)\n",
    "    formal_argument=[5,6,7]\n",
    "    print('Again Changed Formal argument is ', formal_argument)\n",
    "\n",
    "actual_argument = [1,2,3]\n",
    "print('Actual Argument is ',actual_argument)\n",
    "called_function(actual_argument)\n",
    "print('Actual Argument After calling is ',actual_argument) # Why is not [5,6,7] Why does It reflect half the changes only??\n"
   ]
  },
  {
   "cell_type": "markdown",
   "metadata": {},
   "source": [
    "* ### So what does python use?\n",
    "\n",
    ">Neither.\n",
    ">Instead it uses something called <b>call-by-object-reference</b>\n",
    "\n",
    "> * #### ID of python objects\n",
    "\n",
    ">Everything in python is an object and every object is assigned an identifier in python that is unique for that object during it's lifetime. This id mostly corresponds to the address of that object in memory.\n",
    "\n",
    ">So we can say if two objects are same they will have same ID."
   ]
  },
  {
   "cell_type": "code",
   "execution_count": 12,
   "metadata": {
    "slideshow": {
     "slide_type": "-"
    }
   },
   "outputs": [
    {
     "name": "stdout",
     "output_type": "stream",
     "text": [
      "ID of some object= 139813089358160\n"
     ]
    }
   ],
   "source": [
    "some_object = object()\n",
    "print('ID of some object=',id(some_object))"
   ]
  },
  {
   "cell_type": "markdown",
   "metadata": {},
   "source": [
    "* #### Types of objects-<br/>\n",
    "><b>Immutable -</b> Immutable objects <b>can not change</b> their values<br/>\n",
    "><b>Mutable -</b> Mutable objects <b>can change</b> their value.\n"
   ]
  },
  {
   "cell_type": "code",
   "execution_count": 14,
   "metadata": {
    "scrolled": true
   },
   "outputs": [
    {
     "name": "stdout",
     "output_type": "stream",
     "text": [
      "x= [1, 2, 3] ID before call= 139813080312072\n",
      "x= [1, 2, 3] ID inside call_list()= 139813080312072\n",
      "x= [1, 2, 3, 4] ID after change inside call_list()= 139813080312072\n",
      "x= [5, 6, 7] ID after assinging a value inside function= 139813071483592\n",
      "x= [1, 2, 3, 4] ID after call= 139813080312072\n"
     ]
    }
   ],
   "source": [
    "def call_int(x):\n",
    "    print('x**2=',x**2, 'ID inside call_int()=',id(x))\n",
    "    x=2\n",
    "    print('x=',x, 'ID after assigning a value inside call_int()=', id(x))\n",
    "\n",
    "def call_list(x):\n",
    "    print('x=', x, 'ID inside call_list()=',id(x))\n",
    "    x.append(4)\n",
    "    print('x=', x, 'ID after change inside call_list()=',id(x))\n",
    "    x = [5,6,7]\n",
    "    print('x=', x,'ID after assinging a value inside function=',id(x))\n",
    "\n",
    "#x = 1\n",
    "x =[1,2,3]\n",
    "print('x=',x, 'ID before call=',id(x))\n",
    "#call_int(x)\n",
    "call_list(x)\n",
    "print('x=',x, 'ID after call=',id(x))    "
   ]
  }
 ],
 "metadata": {
  "kernelspec": {
   "display_name": "Python 3",
   "language": "python",
   "name": "python3"
  },
  "language_info": {
   "codemirror_mode": {
    "name": "ipython",
    "version": 3
   },
   "file_extension": ".py",
   "mimetype": "text/x-python",
   "name": "python",
   "nbconvert_exporter": "python",
   "pygments_lexer": "ipython3",
   "version": "3.6.3"
  }
 },
 "nbformat": 4,
 "nbformat_minor": 2
}
